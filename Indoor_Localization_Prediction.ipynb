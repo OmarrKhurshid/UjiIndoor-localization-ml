{
 "cells": [
  {
   "cell_type": "code",
   "execution_count": 1,
   "id": "60664a3d",
   "metadata": {},
   "outputs": [
    {
     "name": "stderr",
     "output_type": "stream",
     "text": [
      "C:\\Users\\omark\\anaconda3\\lib\\site-packages\\scipy\\__init__.py:146: UserWarning: A NumPy version >=1.16.5 and <1.23.0 is required for this version of SciPy (detected version 1.26.4\n",
      "  warnings.warn(f\"A NumPy version >={np_minversion} and <{np_maxversion}\"\n"
     ]
    }
   ],
   "source": [
    "#Import Libraries\n",
    "import pandas as pd\n",
    "import matplotlib.pyplot as plt\n",
    "import numpy as np\n",
    "import seaborn as sns\n",
    "# Import Encoder\n",
    "from sklearn.preprocessing import  LabelEncoder\n",
    "# Import Models\n",
    "from sklearn import model_selection\n",
    "from sklearn.linear_model import LogisticRegression\n",
    "from sklearn.svm import SVC\n",
    "from sklearn import svm\n",
    "from sklearn.ensemble import RandomForestClassifier, RandomForestRegressor\n",
    "from sklearn.tree import DecisionTreeRegressor\n",
    "# Import Evaluation Matrix\n",
    "from sklearn.metrics import accuracy_score, roc_auc_score\n",
    "from sklearn.metrics import precision_score, recall_score\n",
    "from sklearn.metrics import r2_score, mean_absolute_error, mean_squared_error\n",
    "from sklearn.model_selection import train_test_split\n",
    "from sklearn.neighbors import KNeighborsClassifier\n",
    "from sklearn.svm import SVC"
   ]
  },
  {
   "cell_type": "code",
   "execution_count": 2,
   "id": "24d1fa80",
   "metadata": {},
   "outputs": [],
   "source": [
    "ds = pd.read_csv('AssignmentPart1.csv')"
   ]
  },
  {
   "cell_type": "code",
   "execution_count": 3,
   "id": "0d979a2c",
   "metadata": {
    "scrolled": true
   },
   "outputs": [
    {
     "data": {
      "text/html": [
       "<div>\n",
       "<style scoped>\n",
       "    .dataframe tbody tr th:only-of-type {\n",
       "        vertical-align: middle;\n",
       "    }\n",
       "\n",
       "    .dataframe tbody tr th {\n",
       "        vertical-align: top;\n",
       "    }\n",
       "\n",
       "    .dataframe thead th {\n",
       "        text-align: right;\n",
       "    }\n",
       "</style>\n",
       "<table border=\"1\" class=\"dataframe\">\n",
       "  <thead>\n",
       "    <tr style=\"text-align: right;\">\n",
       "      <th></th>\n",
       "      <th>Unnamed: 0</th>\n",
       "      <th>WAP001</th>\n",
       "      <th>WAP002</th>\n",
       "      <th>WAP003</th>\n",
       "      <th>WAP004</th>\n",
       "      <th>WAP005</th>\n",
       "      <th>WAP006</th>\n",
       "      <th>WAP007</th>\n",
       "      <th>WAP008</th>\n",
       "      <th>WAP009</th>\n",
       "      <th>...</th>\n",
       "      <th>WAP520</th>\n",
       "      <th>LONGITUDE</th>\n",
       "      <th>LATITUDE</th>\n",
       "      <th>FLOOR</th>\n",
       "      <th>BUILDINGID</th>\n",
       "      <th>SPACEID</th>\n",
       "      <th>RELATIVEPOSITION</th>\n",
       "      <th>USERID</th>\n",
       "      <th>PHONEID</th>\n",
       "      <th>TIMESTAMP</th>\n",
       "    </tr>\n",
       "  </thead>\n",
       "  <tbody>\n",
       "    <tr>\n",
       "      <th>0</th>\n",
       "      <td>0</td>\n",
       "      <td>100</td>\n",
       "      <td>100</td>\n",
       "      <td>100</td>\n",
       "      <td>100</td>\n",
       "      <td>100</td>\n",
       "      <td>100</td>\n",
       "      <td>100</td>\n",
       "      <td>100</td>\n",
       "      <td>100</td>\n",
       "      <td>...</td>\n",
       "      <td>100</td>\n",
       "      <td>-7316.963900</td>\n",
       "      <td>4.864795e+06</td>\n",
       "      <td>3</td>\n",
       "      <td>2</td>\n",
       "      <td>136</td>\n",
       "      <td>2</td>\n",
       "      <td>11</td>\n",
       "      <td>13</td>\n",
       "      <td>1371717429</td>\n",
       "    </tr>\n",
       "    <tr>\n",
       "      <th>1</th>\n",
       "      <td>1</td>\n",
       "      <td>100</td>\n",
       "      <td>100</td>\n",
       "      <td>100</td>\n",
       "      <td>100</td>\n",
       "      <td>100</td>\n",
       "      <td>100</td>\n",
       "      <td>100</td>\n",
       "      <td>-79</td>\n",
       "      <td>100</td>\n",
       "      <td>...</td>\n",
       "      <td>100</td>\n",
       "      <td>-7523.494500</td>\n",
       "      <td>4.864952e+06</td>\n",
       "      <td>1</td>\n",
       "      <td>1</td>\n",
       "      <td>104</td>\n",
       "      <td>2</td>\n",
       "      <td>14</td>\n",
       "      <td>7</td>\n",
       "      <td>1371720695</td>\n",
       "    </tr>\n",
       "    <tr>\n",
       "      <th>2</th>\n",
       "      <td>2</td>\n",
       "      <td>100</td>\n",
       "      <td>100</td>\n",
       "      <td>100</td>\n",
       "      <td>100</td>\n",
       "      <td>100</td>\n",
       "      <td>100</td>\n",
       "      <td>100</td>\n",
       "      <td>100</td>\n",
       "      <td>100</td>\n",
       "      <td>...</td>\n",
       "      <td>100</td>\n",
       "      <td>-7318.341100</td>\n",
       "      <td>4.864815e+06</td>\n",
       "      <td>4</td>\n",
       "      <td>2</td>\n",
       "      <td>139</td>\n",
       "      <td>2</td>\n",
       "      <td>6</td>\n",
       "      <td>19</td>\n",
       "      <td>1371720712</td>\n",
       "    </tr>\n",
       "    <tr>\n",
       "      <th>3</th>\n",
       "      <td>3</td>\n",
       "      <td>100</td>\n",
       "      <td>100</td>\n",
       "      <td>100</td>\n",
       "      <td>100</td>\n",
       "      <td>100</td>\n",
       "      <td>100</td>\n",
       "      <td>100</td>\n",
       "      <td>100</td>\n",
       "      <td>100</td>\n",
       "      <td>...</td>\n",
       "      <td>100</td>\n",
       "      <td>-7390.184700</td>\n",
       "      <td>4.864839e+06</td>\n",
       "      <td>1</td>\n",
       "      <td>2</td>\n",
       "      <td>143</td>\n",
       "      <td>2</td>\n",
       "      <td>7</td>\n",
       "      <td>6</td>\n",
       "      <td>1371721370</td>\n",
       "    </tr>\n",
       "    <tr>\n",
       "      <th>4</th>\n",
       "      <td>4</td>\n",
       "      <td>100</td>\n",
       "      <td>100</td>\n",
       "      <td>100</td>\n",
       "      <td>100</td>\n",
       "      <td>100</td>\n",
       "      <td>100</td>\n",
       "      <td>100</td>\n",
       "      <td>100</td>\n",
       "      <td>100</td>\n",
       "      <td>...</td>\n",
       "      <td>100</td>\n",
       "      <td>-7374.347500</td>\n",
       "      <td>4.864846e+06</td>\n",
       "      <td>4</td>\n",
       "      <td>2</td>\n",
       "      <td>124</td>\n",
       "      <td>2</td>\n",
       "      <td>13</td>\n",
       "      <td>17</td>\n",
       "      <td>1371722006</td>\n",
       "    </tr>\n",
       "    <tr>\n",
       "      <th>...</th>\n",
       "      <td>...</td>\n",
       "      <td>...</td>\n",
       "      <td>...</td>\n",
       "      <td>...</td>\n",
       "      <td>...</td>\n",
       "      <td>...</td>\n",
       "      <td>...</td>\n",
       "      <td>...</td>\n",
       "      <td>...</td>\n",
       "      <td>...</td>\n",
       "      <td>...</td>\n",
       "      <td>...</td>\n",
       "      <td>...</td>\n",
       "      <td>...</td>\n",
       "      <td>...</td>\n",
       "      <td>...</td>\n",
       "      <td>...</td>\n",
       "      <td>...</td>\n",
       "      <td>...</td>\n",
       "      <td>...</td>\n",
       "      <td>...</td>\n",
       "    </tr>\n",
       "    <tr>\n",
       "      <th>13951</th>\n",
       "      <td>13951</td>\n",
       "      <td>100</td>\n",
       "      <td>100</td>\n",
       "      <td>100</td>\n",
       "      <td>100</td>\n",
       "      <td>100</td>\n",
       "      <td>100</td>\n",
       "      <td>100</td>\n",
       "      <td>100</td>\n",
       "      <td>100</td>\n",
       "      <td>...</td>\n",
       "      <td>100</td>\n",
       "      <td>-7352.664769</td>\n",
       "      <td>4.864829e+06</td>\n",
       "      <td>0</td>\n",
       "      <td>2</td>\n",
       "      <td>124</td>\n",
       "      <td>1</td>\n",
       "      <td>17</td>\n",
       "      <td>22</td>\n",
       "      <td>1371721606</td>\n",
       "    </tr>\n",
       "    <tr>\n",
       "      <th>13952</th>\n",
       "      <td>13952</td>\n",
       "      <td>100</td>\n",
       "      <td>100</td>\n",
       "      <td>100</td>\n",
       "      <td>100</td>\n",
       "      <td>100</td>\n",
       "      <td>100</td>\n",
       "      <td>100</td>\n",
       "      <td>100</td>\n",
       "      <td>100</td>\n",
       "      <td>...</td>\n",
       "      <td>100</td>\n",
       "      <td>-7318.341100</td>\n",
       "      <td>4.864815e+06</td>\n",
       "      <td>1</td>\n",
       "      <td>2</td>\n",
       "      <td>130</td>\n",
       "      <td>2</td>\n",
       "      <td>12</td>\n",
       "      <td>24</td>\n",
       "      <td>1371716449</td>\n",
       "    </tr>\n",
       "    <tr>\n",
       "      <th>13953</th>\n",
       "      <td>13953</td>\n",
       "      <td>100</td>\n",
       "      <td>100</td>\n",
       "      <td>100</td>\n",
       "      <td>100</td>\n",
       "      <td>100</td>\n",
       "      <td>100</td>\n",
       "      <td>100</td>\n",
       "      <td>100</td>\n",
       "      <td>100</td>\n",
       "      <td>...</td>\n",
       "      <td>100</td>\n",
       "      <td>-7336.299000</td>\n",
       "      <td>4.864829e+06</td>\n",
       "      <td>1</td>\n",
       "      <td>2</td>\n",
       "      <td>111</td>\n",
       "      <td>2</td>\n",
       "      <td>16</td>\n",
       "      <td>14</td>\n",
       "      <td>1371720695</td>\n",
       "    </tr>\n",
       "    <tr>\n",
       "      <th>13954</th>\n",
       "      <td>13954</td>\n",
       "      <td>100</td>\n",
       "      <td>100</td>\n",
       "      <td>100</td>\n",
       "      <td>100</td>\n",
       "      <td>100</td>\n",
       "      <td>100</td>\n",
       "      <td>-85</td>\n",
       "      <td>100</td>\n",
       "      <td>100</td>\n",
       "      <td>...</td>\n",
       "      <td>100</td>\n",
       "      <td>-7646.206400</td>\n",
       "      <td>4.864932e+06</td>\n",
       "      <td>1</td>\n",
       "      <td>0</td>\n",
       "      <td>234</td>\n",
       "      <td>2</td>\n",
       "      <td>11</td>\n",
       "      <td>13</td>\n",
       "      <td>1369928119</td>\n",
       "    </tr>\n",
       "    <tr>\n",
       "      <th>13955</th>\n",
       "      <td>13955</td>\n",
       "      <td>100</td>\n",
       "      <td>100</td>\n",
       "      <td>100</td>\n",
       "      <td>100</td>\n",
       "      <td>100</td>\n",
       "      <td>100</td>\n",
       "      <td>100</td>\n",
       "      <td>100</td>\n",
       "      <td>100</td>\n",
       "      <td>...</td>\n",
       "      <td>100</td>\n",
       "      <td>-7682.084400</td>\n",
       "      <td>4.864931e+06</td>\n",
       "      <td>2</td>\n",
       "      <td>0</td>\n",
       "      <td>227</td>\n",
       "      <td>2</td>\n",
       "      <td>11</td>\n",
       "      <td>13</td>\n",
       "      <td>1370339227</td>\n",
       "    </tr>\n",
       "  </tbody>\n",
       "</table>\n",
       "<p>13956 rows × 530 columns</p>\n",
       "</div>"
      ],
      "text/plain": [
       "       Unnamed: 0  WAP001  WAP002  WAP003  WAP004  WAP005  WAP006  WAP007  \\\n",
       "0               0     100     100     100     100     100     100     100   \n",
       "1               1     100     100     100     100     100     100     100   \n",
       "2               2     100     100     100     100     100     100     100   \n",
       "3               3     100     100     100     100     100     100     100   \n",
       "4               4     100     100     100     100     100     100     100   \n",
       "...           ...     ...     ...     ...     ...     ...     ...     ...   \n",
       "13951       13951     100     100     100     100     100     100     100   \n",
       "13952       13952     100     100     100     100     100     100     100   \n",
       "13953       13953     100     100     100     100     100     100     100   \n",
       "13954       13954     100     100     100     100     100     100     -85   \n",
       "13955       13955     100     100     100     100     100     100     100   \n",
       "\n",
       "       WAP008  WAP009  ...  WAP520    LONGITUDE      LATITUDE  FLOOR  \\\n",
       "0         100     100  ...     100 -7316.963900  4.864795e+06      3   \n",
       "1         -79     100  ...     100 -7523.494500  4.864952e+06      1   \n",
       "2         100     100  ...     100 -7318.341100  4.864815e+06      4   \n",
       "3         100     100  ...     100 -7390.184700  4.864839e+06      1   \n",
       "4         100     100  ...     100 -7374.347500  4.864846e+06      4   \n",
       "...       ...     ...  ...     ...          ...           ...    ...   \n",
       "13951     100     100  ...     100 -7352.664769  4.864829e+06      0   \n",
       "13952     100     100  ...     100 -7318.341100  4.864815e+06      1   \n",
       "13953     100     100  ...     100 -7336.299000  4.864829e+06      1   \n",
       "13954     100     100  ...     100 -7646.206400  4.864932e+06      1   \n",
       "13955     100     100  ...     100 -7682.084400  4.864931e+06      2   \n",
       "\n",
       "       BUILDINGID  SPACEID  RELATIVEPOSITION  USERID  PHONEID   TIMESTAMP  \n",
       "0               2      136                 2      11       13  1371717429  \n",
       "1               1      104                 2      14        7  1371720695  \n",
       "2               2      139                 2       6       19  1371720712  \n",
       "3               2      143                 2       7        6  1371721370  \n",
       "4               2      124                 2      13       17  1371722006  \n",
       "...           ...      ...               ...     ...      ...         ...  \n",
       "13951           2      124                 1      17       22  1371721606  \n",
       "13952           2      130                 2      12       24  1371716449  \n",
       "13953           2      111                 2      16       14  1371720695  \n",
       "13954           0      234                 2      11       13  1369928119  \n",
       "13955           0      227                 2      11       13  1370339227  \n",
       "\n",
       "[13956 rows x 530 columns]"
      ]
     },
     "execution_count": 3,
     "metadata": {},
     "output_type": "execute_result"
    }
   ],
   "source": [
    "ds"
   ]
  },
  {
   "cell_type": "code",
   "execution_count": 4,
   "id": "32274b41",
   "metadata": {},
   "outputs": [],
   "source": [
    "ds_main = ds.head(1000)"
   ]
  },
  {
   "cell_type": "code",
   "execution_count": 5,
   "id": "5383202d",
   "metadata": {},
   "outputs": [
    {
     "data": {
      "text/plain": [
       "<AxesSubplot:>"
      ]
     },
     "execution_count": 5,
     "metadata": {},
     "output_type": "execute_result"
    },
    {
     "data": {
      "image/png": "[encoded data removed]",
      "text/plain": [
       "<Figure size 1008x648 with 2 Axes>"
      ]
     },
     "metadata": {
      "needs_background": "light"
     },
     "output_type": "display_data"
    }
   ],
   "source": [
    "corr = ds_main.corr()\n",
    "plt.figure(figsize=(14,9))\n",
    "sns.heatmap(corr, annot=True, cmap='coolwarm')"
   ]
  },
  {
   "cell_type": "code",
   "execution_count": 6,
   "id": "8116098b",
   "metadata": {},
   "outputs": [],
   "source": [
    "WAPzero =[]\n",
    "\n"
   ]
  },
  {
   "cell_type": "code",
   "execution_count": 8,
   "id": "57deed25",
   "metadata": {},
   "outputs": [
    {
     "data": {
      "text/plain": [
       "Index(['Unnamed: 0', 'WAP001', 'WAP002', 'WAP003', 'WAP004', 'WAP005',\n",
       "       'WAP006', 'WAP007', 'WAP008', 'WAP009',\n",
       "       ...\n",
       "       'WAP520', 'LONGITUDE', 'LATITUDE', 'FLOOR', 'BUILDINGID', 'SPACEID',\n",
       "       'RELATIVEPOSITION', 'USERID', 'PHONEID', 'TIMESTAMP'],\n",
       "      dtype='object', length=530)"
      ]
     },
     "execution_count": 8,
     "metadata": {},
     "output_type": "execute_result"
    }
   ],
   "source": [
    "ds.columns"
   ]
  },
  {
   "cell_type": "code",
   "execution_count": 9,
   "id": "22b50572",
   "metadata": {},
   "outputs": [
    {
     "data": {
      "text/html": [
       "<div>\n",
       "<style scoped>\n",
       "    .dataframe tbody tr th:only-of-type {\n",
       "        vertical-align: middle;\n",
       "    }\n",
       "\n",
       "    .dataframe tbody tr th {\n",
       "        vertical-align: top;\n",
       "    }\n",
       "\n",
       "    .dataframe thead th {\n",
       "        text-align: right;\n",
       "    }\n",
       "</style>\n",
       "<table border=\"1\" class=\"dataframe\">\n",
       "  <thead>\n",
       "    <tr style=\"text-align: right;\">\n",
       "      <th></th>\n",
       "      <th>Unnamed: 0</th>\n",
       "      <th>WAP001</th>\n",
       "      <th>WAP002</th>\n",
       "      <th>WAP003</th>\n",
       "      <th>WAP004</th>\n",
       "      <th>WAP005</th>\n",
       "      <th>WAP006</th>\n",
       "      <th>WAP007</th>\n",
       "      <th>WAP008</th>\n",
       "      <th>WAP009</th>\n",
       "      <th>...</th>\n",
       "      <th>WAP520</th>\n",
       "      <th>LONGITUDE</th>\n",
       "      <th>LATITUDE</th>\n",
       "      <th>FLOOR</th>\n",
       "      <th>BUILDINGID</th>\n",
       "      <th>SPACEID</th>\n",
       "      <th>RELATIVEPOSITION</th>\n",
       "      <th>USERID</th>\n",
       "      <th>PHONEID</th>\n",
       "      <th>TIMESTAMP</th>\n",
       "    </tr>\n",
       "  </thead>\n",
       "  <tbody>\n",
       "    <tr>\n",
       "      <th>0</th>\n",
       "      <td>0</td>\n",
       "      <td>100</td>\n",
       "      <td>100</td>\n",
       "      <td>100</td>\n",
       "      <td>100</td>\n",
       "      <td>100</td>\n",
       "      <td>100</td>\n",
       "      <td>100</td>\n",
       "      <td>100</td>\n",
       "      <td>100</td>\n",
       "      <td>...</td>\n",
       "      <td>100</td>\n",
       "      <td>-7316.963900</td>\n",
       "      <td>4.864795e+06</td>\n",
       "      <td>3</td>\n",
       "      <td>2</td>\n",
       "      <td>136</td>\n",
       "      <td>2</td>\n",
       "      <td>11</td>\n",
       "      <td>13</td>\n",
       "      <td>1371717429</td>\n",
       "    </tr>\n",
       "    <tr>\n",
       "      <th>1</th>\n",
       "      <td>1</td>\n",
       "      <td>100</td>\n",
       "      <td>100</td>\n",
       "      <td>100</td>\n",
       "      <td>100</td>\n",
       "      <td>100</td>\n",
       "      <td>100</td>\n",
       "      <td>100</td>\n",
       "      <td>-79</td>\n",
       "      <td>100</td>\n",
       "      <td>...</td>\n",
       "      <td>100</td>\n",
       "      <td>-7523.494500</td>\n",
       "      <td>4.864952e+06</td>\n",
       "      <td>1</td>\n",
       "      <td>1</td>\n",
       "      <td>104</td>\n",
       "      <td>2</td>\n",
       "      <td>14</td>\n",
       "      <td>7</td>\n",
       "      <td>1371720695</td>\n",
       "    </tr>\n",
       "    <tr>\n",
       "      <th>2</th>\n",
       "      <td>2</td>\n",
       "      <td>100</td>\n",
       "      <td>100</td>\n",
       "      <td>100</td>\n",
       "      <td>100</td>\n",
       "      <td>100</td>\n",
       "      <td>100</td>\n",
       "      <td>100</td>\n",
       "      <td>100</td>\n",
       "      <td>100</td>\n",
       "      <td>...</td>\n",
       "      <td>100</td>\n",
       "      <td>-7318.341100</td>\n",
       "      <td>4.864815e+06</td>\n",
       "      <td>4</td>\n",
       "      <td>2</td>\n",
       "      <td>139</td>\n",
       "      <td>2</td>\n",
       "      <td>6</td>\n",
       "      <td>19</td>\n",
       "      <td>1371720712</td>\n",
       "    </tr>\n",
       "    <tr>\n",
       "      <th>3</th>\n",
       "      <td>3</td>\n",
       "      <td>100</td>\n",
       "      <td>100</td>\n",
       "      <td>100</td>\n",
       "      <td>100</td>\n",
       "      <td>100</td>\n",
       "      <td>100</td>\n",
       "      <td>100</td>\n",
       "      <td>100</td>\n",
       "      <td>100</td>\n",
       "      <td>...</td>\n",
       "      <td>100</td>\n",
       "      <td>-7390.184700</td>\n",
       "      <td>4.864839e+06</td>\n",
       "      <td>1</td>\n",
       "      <td>2</td>\n",
       "      <td>143</td>\n",
       "      <td>2</td>\n",
       "      <td>7</td>\n",
       "      <td>6</td>\n",
       "      <td>1371721370</td>\n",
       "    </tr>\n",
       "    <tr>\n",
       "      <th>4</th>\n",
       "      <td>4</td>\n",
       "      <td>100</td>\n",
       "      <td>100</td>\n",
       "      <td>100</td>\n",
       "      <td>100</td>\n",
       "      <td>100</td>\n",
       "      <td>100</td>\n",
       "      <td>100</td>\n",
       "      <td>100</td>\n",
       "      <td>100</td>\n",
       "      <td>...</td>\n",
       "      <td>100</td>\n",
       "      <td>-7374.347500</td>\n",
       "      <td>4.864846e+06</td>\n",
       "      <td>4</td>\n",
       "      <td>2</td>\n",
       "      <td>124</td>\n",
       "      <td>2</td>\n",
       "      <td>13</td>\n",
       "      <td>17</td>\n",
       "      <td>1371722006</td>\n",
       "    </tr>\n",
       "    <tr>\n",
       "      <th>...</th>\n",
       "      <td>...</td>\n",
       "      <td>...</td>\n",
       "      <td>...</td>\n",
       "      <td>...</td>\n",
       "      <td>...</td>\n",
       "      <td>...</td>\n",
       "      <td>...</td>\n",
       "      <td>...</td>\n",
       "      <td>...</td>\n",
       "      <td>...</td>\n",
       "      <td>...</td>\n",
       "      <td>...</td>\n",
       "      <td>...</td>\n",
       "      <td>...</td>\n",
       "      <td>...</td>\n",
       "      <td>...</td>\n",
       "      <td>...</td>\n",
       "      <td>...</td>\n",
       "      <td>...</td>\n",
       "      <td>...</td>\n",
       "      <td>...</td>\n",
       "    </tr>\n",
       "    <tr>\n",
       "      <th>13951</th>\n",
       "      <td>13951</td>\n",
       "      <td>100</td>\n",
       "      <td>100</td>\n",
       "      <td>100</td>\n",
       "      <td>100</td>\n",
       "      <td>100</td>\n",
       "      <td>100</td>\n",
       "      <td>100</td>\n",
       "      <td>100</td>\n",
       "      <td>100</td>\n",
       "      <td>...</td>\n",
       "      <td>100</td>\n",
       "      <td>-7352.664769</td>\n",
       "      <td>4.864829e+06</td>\n",
       "      <td>0</td>\n",
       "      <td>2</td>\n",
       "      <td>124</td>\n",
       "      <td>1</td>\n",
       "      <td>17</td>\n",
       "      <td>22</td>\n",
       "      <td>1371721606</td>\n",
       "    </tr>\n",
       "    <tr>\n",
       "      <th>13952</th>\n",
       "      <td>13952</td>\n",
       "      <td>100</td>\n",
       "      <td>100</td>\n",
       "      <td>100</td>\n",
       "      <td>100</td>\n",
       "      <td>100</td>\n",
       "      <td>100</td>\n",
       "      <td>100</td>\n",
       "      <td>100</td>\n",
       "      <td>100</td>\n",
       "      <td>...</td>\n",
       "      <td>100</td>\n",
       "      <td>-7318.341100</td>\n",
       "      <td>4.864815e+06</td>\n",
       "      <td>1</td>\n",
       "      <td>2</td>\n",
       "      <td>130</td>\n",
       "      <td>2</td>\n",
       "      <td>12</td>\n",
       "      <td>24</td>\n",
       "      <td>1371716449</td>\n",
       "    </tr>\n",
       "    <tr>\n",
       "      <th>13953</th>\n",
       "      <td>13953</td>\n",
       "      <td>100</td>\n",
       "      <td>100</td>\n",
       "      <td>100</td>\n",
       "      <td>100</td>\n",
       "      <td>100</td>\n",
       "      <td>100</td>\n",
       "      <td>100</td>\n",
       "      <td>100</td>\n",
       "      <td>100</td>\n",
       "      <td>...</td>\n",
       "      <td>100</td>\n",
       "      <td>-7336.299000</td>\n",
       "      <td>4.864829e+06</td>\n",
       "      <td>1</td>\n",
       "      <td>2</td>\n",
       "      <td>111</td>\n",
       "      <td>2</td>\n",
       "      <td>16</td>\n",
       "      <td>14</td>\n",
       "      <td>1371720695</td>\n",
       "    </tr>\n",
       "    <tr>\n",
       "      <th>13954</th>\n",
       "      <td>13954</td>\n",
       "      <td>100</td>\n",
       "      <td>100</td>\n",
       "      <td>100</td>\n",
       "      <td>100</td>\n",
       "      <td>100</td>\n",
       "      <td>100</td>\n",
       "      <td>-85</td>\n",
       "      <td>100</td>\n",
       "      <td>100</td>\n",
       "      <td>...</td>\n",
       "      <td>100</td>\n",
       "      <td>-7646.206400</td>\n",
       "      <td>4.864932e+06</td>\n",
       "      <td>1</td>\n",
       "      <td>0</td>\n",
       "      <td>234</td>\n",
       "      <td>2</td>\n",
       "      <td>11</td>\n",
       "      <td>13</td>\n",
       "      <td>1369928119</td>\n",
       "    </tr>\n",
       "    <tr>\n",
       "      <th>13955</th>\n",
       "      <td>13955</td>\n",
       "      <td>100</td>\n",
       "      <td>100</td>\n",
       "      <td>100</td>\n",
       "      <td>100</td>\n",
       "      <td>100</td>\n",
       "      <td>100</td>\n",
       "      <td>100</td>\n",
       "      <td>100</td>\n",
       "      <td>100</td>\n",
       "      <td>...</td>\n",
       "      <td>100</td>\n",
       "      <td>-7682.084400</td>\n",
       "      <td>4.864931e+06</td>\n",
       "      <td>2</td>\n",
       "      <td>0</td>\n",
       "      <td>227</td>\n",
       "      <td>2</td>\n",
       "      <td>11</td>\n",
       "      <td>13</td>\n",
       "      <td>1370339227</td>\n",
       "    </tr>\n",
       "  </tbody>\n",
       "</table>\n",
       "<p>13956 rows × 530 columns</p>\n",
       "</div>"
      ],
      "text/plain": [
       "       Unnamed: 0  WAP001  WAP002  WAP003  WAP004  WAP005  WAP006  WAP007  \\\n",
       "0               0     100     100     100     100     100     100     100   \n",
       "1               1     100     100     100     100     100     100     100   \n",
       "2               2     100     100     100     100     100     100     100   \n",
       "3               3     100     100     100     100     100     100     100   \n",
       "4               4     100     100     100     100     100     100     100   \n",
       "...           ...     ...     ...     ...     ...     ...     ...     ...   \n",
       "13951       13951     100     100     100     100     100     100     100   \n",
       "13952       13952     100     100     100     100     100     100     100   \n",
       "13953       13953     100     100     100     100     100     100     100   \n",
       "13954       13954     100     100     100     100     100     100     -85   \n",
       "13955       13955     100     100     100     100     100     100     100   \n",
       "\n",
       "       WAP008  WAP009  ...  WAP520    LONGITUDE      LATITUDE  FLOOR  \\\n",
       "0         100     100  ...     100 -7316.963900  4.864795e+06      3   \n",
       "1         -79     100  ...     100 -7523.494500  4.864952e+06      1   \n",
       "2         100     100  ...     100 -7318.341100  4.864815e+06      4   \n",
       "3         100     100  ...     100 -7390.184700  4.864839e+06      1   \n",
       "4         100     100  ...     100 -7374.347500  4.864846e+06      4   \n",
       "...       ...     ...  ...     ...          ...           ...    ...   \n",
       "13951     100     100  ...     100 -7352.664769  4.864829e+06      0   \n",
       "13952     100     100  ...     100 -7318.341100  4.864815e+06      1   \n",
       "13953     100     100  ...     100 -7336.299000  4.864829e+06      1   \n",
       "13954     100     100  ...     100 -7646.206400  4.864932e+06      1   \n",
       "13955     100     100  ...     100 -7682.084400  4.864931e+06      2   \n",
       "\n",
       "       BUILDINGID  SPACEID  RELATIVEPOSITION  USERID  PHONEID   TIMESTAMP  \n",
       "0               2      136                 2      11       13  1371717429  \n",
       "1               1      104                 2      14        7  1371720695  \n",
       "2               2      139                 2       6       19  1371720712  \n",
       "3               2      143                 2       7        6  1371721370  \n",
       "4               2      124                 2      13       17  1371722006  \n",
       "...           ...      ...               ...     ...      ...         ...  \n",
       "13951           2      124                 1      17       22  1371721606  \n",
       "13952           2      130                 2      12       24  1371716449  \n",
       "13953           2      111                 2      16       14  1371720695  \n",
       "13954           0      234                 2      11       13  1369928119  \n",
       "13955           0      227                 2      11       13  1370339227  \n",
       "\n",
       "[13956 rows x 530 columns]"
      ]
     },
     "execution_count": 9,
     "metadata": {},
     "output_type": "execute_result"
    }
   ],
   "source": [
    "ds"
   ]
  },
  {
   "cell_type": "code",
   "execution_count": 10,
   "id": "6ff4617b",
   "metadata": {},
   "outputs": [],
   "source": [
    "#Looking for columns that has 0 values and appending to list to handle with NaN values... using try catch continue method\n",
    "for i in ds.iloc[:,1:521]:\n",
    "    try:\n",
    "        if ds[i].value_counts()[0]>0:\n",
    "            WAPzero.append(i)\n",
    "            \n",
    "    except:\n",
    "        continue"
   ]
  },
  {
   "cell_type": "code",
   "execution_count": 11,
   "id": "0f2ff0a7",
   "metadata": {},
   "outputs": [
    {
     "data": {
      "text/plain": [
       "['WAP012',\n",
       " 'WAP064',\n",
       " 'WAP074',\n",
       " 'WAP082',\n",
       " 'WAP083',\n",
       " 'WAP085',\n",
       " 'WAP087',\n",
       " 'WAP117',\n",
       " 'WAP118',\n",
       " 'WAP128',\n",
       " 'WAP144',\n",
       " 'WAP145',\n",
       " 'WAP189',\n",
       " 'WAP279',\n",
       " 'WAP369',\n",
       " 'WAP391',\n",
       " 'WAP398',\n",
       " 'WAP481',\n",
       " 'WAP484',\n",
       " 'WAP486',\n",
       " 'WAP496',\n",
       " 'WAP516',\n",
       " 'WAP517']"
      ]
     },
     "execution_count": 11,
     "metadata": {},
     "output_type": "execute_result"
    }
   ],
   "source": [
    "WAPzero"
   ]
  },
  {
   "cell_type": "code",
   "execution_count": 12,
   "id": "2aedb0b4",
   "metadata": {},
   "outputs": [],
   "source": [
    "for i in WAPzero:\n",
    "    ds[i]=ds[i].replace(0,np.nan)\n",
    "ds.isna().sum().sum()\n",
    "ds=ds.dropna()"
   ]
  },
  {
   "cell_type": "code",
   "execution_count": 13,
   "id": "952ecea8",
   "metadata": {
    "scrolled": true
   },
   "outputs": [
    {
     "data": {
      "text/plain": [
       "(13869, 530)"
      ]
     },
     "execution_count": 13,
     "metadata": {},
     "output_type": "execute_result"
    }
   ],
   "source": [
    "ds.shape"
   ]
  },
  {
   "cell_type": "code",
   "execution_count": 14,
   "id": "8d6c5ffa",
   "metadata": {},
   "outputs": [],
   "source": [
    "WAP100=[]"
   ]
  },
  {
   "cell_type": "code",
   "execution_count": 15,
   "id": "bde636a3",
   "metadata": {},
   "outputs": [],
   "source": [
    "#Taking note of the columns that has all 100 values to remove them later on since they're not needed\n",
    "for i in ds.iloc[:,0:520]:\n",
    "    try:\n",
    "        if ds[i].value_counts()[100]==len(ds):\n",
    "            WAP100.append(i)\n",
    "    except:\n",
    "        continue"
   ]
  },
  {
   "cell_type": "code",
   "execution_count": 16,
   "id": "c89a6b66",
   "metadata": {},
   "outputs": [
    {
     "data": {
      "text/plain": [
       "['WAP003',\n",
       " 'WAP004',\n",
       " 'WAP079',\n",
       " 'WAP092',\n",
       " 'WAP093',\n",
       " 'WAP094',\n",
       " 'WAP095',\n",
       " 'WAP152',\n",
       " 'WAP158',\n",
       " 'WAP159',\n",
       " 'WAP160',\n",
       " 'WAP200',\n",
       " 'WAP215',\n",
       " 'WAP217',\n",
       " 'WAP226',\n",
       " 'WAP227',\n",
       " 'WAP238',\n",
       " 'WAP239',\n",
       " 'WAP240',\n",
       " 'WAP241',\n",
       " 'WAP242',\n",
       " 'WAP243',\n",
       " 'WAP244',\n",
       " 'WAP245',\n",
       " 'WAP246',\n",
       " 'WAP247',\n",
       " 'WAP254',\n",
       " 'WAP293',\n",
       " 'WAP296',\n",
       " 'WAP301',\n",
       " 'WAP303',\n",
       " 'WAP304',\n",
       " 'WAP307',\n",
       " 'WAP333',\n",
       " 'WAP349',\n",
       " 'WAP353',\n",
       " 'WAP360',\n",
       " 'WAP365',\n",
       " 'WAP416',\n",
       " 'WAP419',\n",
       " 'WAP423',\n",
       " 'WAP429',\n",
       " 'WAP433',\n",
       " 'WAP438',\n",
       " 'WAP441',\n",
       " 'WAP442',\n",
       " 'WAP444',\n",
       " 'WAP445',\n",
       " 'WAP451',\n",
       " 'WAP458',\n",
       " 'WAP464',\n",
       " 'WAP482',\n",
       " 'WAP485',\n",
       " 'WAP487',\n",
       " 'WAP488',\n",
       " 'WAP491',\n",
       " 'WAP497']"
      ]
     },
     "execution_count": 16,
     "metadata": {},
     "output_type": "execute_result"
    }
   ],
   "source": [
    "WAP100"
   ]
  },
  {
   "cell_type": "code",
   "execution_count": 17,
   "id": "d27fa413",
   "metadata": {},
   "outputs": [],
   "source": [
    "ds=ds.drop(columns=WAP100)"
   ]
  },
  {
   "cell_type": "code",
   "execution_count": 18,
   "id": "a0516df5",
   "metadata": {},
   "outputs": [
    {
     "data": {
      "text/plain": [
       "(13869, 473)"
      ]
     },
     "execution_count": 18,
     "metadata": {},
     "output_type": "execute_result"
    }
   ],
   "source": [
    "ds.shape"
   ]
  },
  {
   "cell_type": "code",
   "execution_count": 20,
   "id": "a87612ee",
   "metadata": {},
   "outputs": [
    {
     "data": {
      "text/plain": [
       "3"
      ]
     },
     "execution_count": 20,
     "metadata": {},
     "output_type": "execute_result"
    }
   ],
   "source": [
    "ds['BUILDINGID'].nunique()\n"
   ]
  },
  {
   "cell_type": "code",
   "execution_count": 21,
   "id": "51aa0ec7",
   "metadata": {},
   "outputs": [
    {
     "data": {
      "text/plain": [
       "5"
      ]
     },
     "execution_count": 21,
     "metadata": {},
     "output_type": "execute_result"
    }
   ],
   "source": [
    "ds['FLOOR'].nunique()\n"
   ]
  },
  {
   "cell_type": "code",
   "execution_count": 22,
   "id": "2c425039",
   "metadata": {},
   "outputs": [
    {
     "data": {
      "text/plain": [
       "18"
      ]
     },
     "execution_count": 22,
     "metadata": {},
     "output_type": "execute_result"
    }
   ],
   "source": [
    "ds['USERID'].nunique()\n"
   ]
  },
  {
   "cell_type": "code",
   "execution_count": 23,
   "id": "79726083",
   "metadata": {},
   "outputs": [
    {
     "data": {
      "text/plain": [
       "2"
      ]
     },
     "execution_count": 23,
     "metadata": {},
     "output_type": "execute_result"
    }
   ],
   "source": [
    "ds['RELATIVEPOSITION'].nunique()\n"
   ]
  },
  {
   "cell_type": "code",
   "execution_count": 24,
   "id": "a9300f97",
   "metadata": {},
   "outputs": [],
   "source": [
    "ds.drop(columns=[\"Unnamed: 0\",'RELATIVEPOSITION', 'USERID', 'PHONEID', 'TIMESTAMP'],axis=1,inplace=True)"
   ]
  },
  {
   "cell_type": "code",
   "execution_count": 25,
   "id": "44a081e9",
   "metadata": {},
   "outputs": [
    {
     "data": {
      "text/html": [
       "<div>\n",
       "<style scoped>\n",
       "    .dataframe tbody tr th:only-of-type {\n",
       "        vertical-align: middle;\n",
       "    }\n",
       "\n",
       "    .dataframe tbody tr th {\n",
       "        vertical-align: top;\n",
       "    }\n",
       "\n",
       "    .dataframe thead th {\n",
       "        text-align: right;\n",
       "    }\n",
       "</style>\n",
       "<table border=\"1\" class=\"dataframe\">\n",
       "  <thead>\n",
       "    <tr style=\"text-align: right;\">\n",
       "      <th></th>\n",
       "      <th>WAP001</th>\n",
       "      <th>WAP002</th>\n",
       "      <th>WAP005</th>\n",
       "      <th>WAP006</th>\n",
       "      <th>WAP007</th>\n",
       "      <th>WAP008</th>\n",
       "      <th>WAP009</th>\n",
       "      <th>WAP010</th>\n",
       "      <th>WAP011</th>\n",
       "      <th>WAP012</th>\n",
       "      <th>...</th>\n",
       "      <th>WAP516</th>\n",
       "      <th>WAP517</th>\n",
       "      <th>WAP518</th>\n",
       "      <th>WAP519</th>\n",
       "      <th>WAP520</th>\n",
       "      <th>LONGITUDE</th>\n",
       "      <th>LATITUDE</th>\n",
       "      <th>FLOOR</th>\n",
       "      <th>BUILDINGID</th>\n",
       "      <th>SPACEID</th>\n",
       "    </tr>\n",
       "  </thead>\n",
       "  <tbody>\n",
       "    <tr>\n",
       "      <th>0</th>\n",
       "      <td>100</td>\n",
       "      <td>100</td>\n",
       "      <td>100</td>\n",
       "      <td>100</td>\n",
       "      <td>100</td>\n",
       "      <td>100</td>\n",
       "      <td>100</td>\n",
       "      <td>100</td>\n",
       "      <td>100</td>\n",
       "      <td>100.0</td>\n",
       "      <td>...</td>\n",
       "      <td>100.0</td>\n",
       "      <td>100.0</td>\n",
       "      <td>100</td>\n",
       "      <td>100</td>\n",
       "      <td>100</td>\n",
       "      <td>-7316.963900</td>\n",
       "      <td>4.864795e+06</td>\n",
       "      <td>3</td>\n",
       "      <td>2</td>\n",
       "      <td>136</td>\n",
       "    </tr>\n",
       "    <tr>\n",
       "      <th>1</th>\n",
       "      <td>100</td>\n",
       "      <td>100</td>\n",
       "      <td>100</td>\n",
       "      <td>100</td>\n",
       "      <td>100</td>\n",
       "      <td>-79</td>\n",
       "      <td>100</td>\n",
       "      <td>100</td>\n",
       "      <td>100</td>\n",
       "      <td>100.0</td>\n",
       "      <td>...</td>\n",
       "      <td>100.0</td>\n",
       "      <td>100.0</td>\n",
       "      <td>100</td>\n",
       "      <td>100</td>\n",
       "      <td>100</td>\n",
       "      <td>-7523.494500</td>\n",
       "      <td>4.864952e+06</td>\n",
       "      <td>1</td>\n",
       "      <td>1</td>\n",
       "      <td>104</td>\n",
       "    </tr>\n",
       "    <tr>\n",
       "      <th>2</th>\n",
       "      <td>100</td>\n",
       "      <td>100</td>\n",
       "      <td>100</td>\n",
       "      <td>100</td>\n",
       "      <td>100</td>\n",
       "      <td>100</td>\n",
       "      <td>100</td>\n",
       "      <td>100</td>\n",
       "      <td>-87</td>\n",
       "      <td>-88.0</td>\n",
       "      <td>...</td>\n",
       "      <td>100.0</td>\n",
       "      <td>100.0</td>\n",
       "      <td>100</td>\n",
       "      <td>100</td>\n",
       "      <td>100</td>\n",
       "      <td>-7318.341100</td>\n",
       "      <td>4.864815e+06</td>\n",
       "      <td>4</td>\n",
       "      <td>2</td>\n",
       "      <td>139</td>\n",
       "    </tr>\n",
       "    <tr>\n",
       "      <th>3</th>\n",
       "      <td>100</td>\n",
       "      <td>100</td>\n",
       "      <td>100</td>\n",
       "      <td>100</td>\n",
       "      <td>100</td>\n",
       "      <td>100</td>\n",
       "      <td>100</td>\n",
       "      <td>100</td>\n",
       "      <td>100</td>\n",
       "      <td>100.0</td>\n",
       "      <td>...</td>\n",
       "      <td>100.0</td>\n",
       "      <td>100.0</td>\n",
       "      <td>100</td>\n",
       "      <td>100</td>\n",
       "      <td>100</td>\n",
       "      <td>-7390.184700</td>\n",
       "      <td>4.864839e+06</td>\n",
       "      <td>1</td>\n",
       "      <td>2</td>\n",
       "      <td>143</td>\n",
       "    </tr>\n",
       "    <tr>\n",
       "      <th>4</th>\n",
       "      <td>100</td>\n",
       "      <td>100</td>\n",
       "      <td>100</td>\n",
       "      <td>100</td>\n",
       "      <td>100</td>\n",
       "      <td>100</td>\n",
       "      <td>100</td>\n",
       "      <td>100</td>\n",
       "      <td>-73</td>\n",
       "      <td>-73.0</td>\n",
       "      <td>...</td>\n",
       "      <td>100.0</td>\n",
       "      <td>-74.0</td>\n",
       "      <td>100</td>\n",
       "      <td>100</td>\n",
       "      <td>100</td>\n",
       "      <td>-7374.347500</td>\n",
       "      <td>4.864846e+06</td>\n",
       "      <td>4</td>\n",
       "      <td>2</td>\n",
       "      <td>124</td>\n",
       "    </tr>\n",
       "    <tr>\n",
       "      <th>...</th>\n",
       "      <td>...</td>\n",
       "      <td>...</td>\n",
       "      <td>...</td>\n",
       "      <td>...</td>\n",
       "      <td>...</td>\n",
       "      <td>...</td>\n",
       "      <td>...</td>\n",
       "      <td>...</td>\n",
       "      <td>...</td>\n",
       "      <td>...</td>\n",
       "      <td>...</td>\n",
       "      <td>...</td>\n",
       "      <td>...</td>\n",
       "      <td>...</td>\n",
       "      <td>...</td>\n",
       "      <td>...</td>\n",
       "      <td>...</td>\n",
       "      <td>...</td>\n",
       "      <td>...</td>\n",
       "      <td>...</td>\n",
       "      <td>...</td>\n",
       "    </tr>\n",
       "    <tr>\n",
       "      <th>13951</th>\n",
       "      <td>100</td>\n",
       "      <td>100</td>\n",
       "      <td>100</td>\n",
       "      <td>100</td>\n",
       "      <td>100</td>\n",
       "      <td>100</td>\n",
       "      <td>100</td>\n",
       "      <td>100</td>\n",
       "      <td>100</td>\n",
       "      <td>100.0</td>\n",
       "      <td>...</td>\n",
       "      <td>-81.0</td>\n",
       "      <td>100.0</td>\n",
       "      <td>100</td>\n",
       "      <td>100</td>\n",
       "      <td>100</td>\n",
       "      <td>-7352.664769</td>\n",
       "      <td>4.864829e+06</td>\n",
       "      <td>0</td>\n",
       "      <td>2</td>\n",
       "      <td>124</td>\n",
       "    </tr>\n",
       "    <tr>\n",
       "      <th>13952</th>\n",
       "      <td>100</td>\n",
       "      <td>100</td>\n",
       "      <td>100</td>\n",
       "      <td>100</td>\n",
       "      <td>100</td>\n",
       "      <td>100</td>\n",
       "      <td>100</td>\n",
       "      <td>100</td>\n",
       "      <td>100</td>\n",
       "      <td>100.0</td>\n",
       "      <td>...</td>\n",
       "      <td>-46.0</td>\n",
       "      <td>-74.0</td>\n",
       "      <td>100</td>\n",
       "      <td>100</td>\n",
       "      <td>100</td>\n",
       "      <td>-7318.341100</td>\n",
       "      <td>4.864815e+06</td>\n",
       "      <td>1</td>\n",
       "      <td>2</td>\n",
       "      <td>130</td>\n",
       "    </tr>\n",
       "    <tr>\n",
       "      <th>13953</th>\n",
       "      <td>100</td>\n",
       "      <td>100</td>\n",
       "      <td>100</td>\n",
       "      <td>100</td>\n",
       "      <td>100</td>\n",
       "      <td>100</td>\n",
       "      <td>100</td>\n",
       "      <td>100</td>\n",
       "      <td>100</td>\n",
       "      <td>100.0</td>\n",
       "      <td>...</td>\n",
       "      <td>-72.0</td>\n",
       "      <td>-65.0</td>\n",
       "      <td>100</td>\n",
       "      <td>100</td>\n",
       "      <td>100</td>\n",
       "      <td>-7336.299000</td>\n",
       "      <td>4.864829e+06</td>\n",
       "      <td>1</td>\n",
       "      <td>2</td>\n",
       "      <td>111</td>\n",
       "    </tr>\n",
       "    <tr>\n",
       "      <th>13954</th>\n",
       "      <td>100</td>\n",
       "      <td>100</td>\n",
       "      <td>100</td>\n",
       "      <td>100</td>\n",
       "      <td>-85</td>\n",
       "      <td>100</td>\n",
       "      <td>100</td>\n",
       "      <td>100</td>\n",
       "      <td>100</td>\n",
       "      <td>100.0</td>\n",
       "      <td>...</td>\n",
       "      <td>100.0</td>\n",
       "      <td>100.0</td>\n",
       "      <td>100</td>\n",
       "      <td>100</td>\n",
       "      <td>100</td>\n",
       "      <td>-7646.206400</td>\n",
       "      <td>4.864932e+06</td>\n",
       "      <td>1</td>\n",
       "      <td>0</td>\n",
       "      <td>234</td>\n",
       "    </tr>\n",
       "    <tr>\n",
       "      <th>13955</th>\n",
       "      <td>100</td>\n",
       "      <td>100</td>\n",
       "      <td>100</td>\n",
       "      <td>100</td>\n",
       "      <td>100</td>\n",
       "      <td>100</td>\n",
       "      <td>100</td>\n",
       "      <td>100</td>\n",
       "      <td>100</td>\n",
       "      <td>100.0</td>\n",
       "      <td>...</td>\n",
       "      <td>100.0</td>\n",
       "      <td>100.0</td>\n",
       "      <td>100</td>\n",
       "      <td>100</td>\n",
       "      <td>100</td>\n",
       "      <td>-7682.084400</td>\n",
       "      <td>4.864931e+06</td>\n",
       "      <td>2</td>\n",
       "      <td>0</td>\n",
       "      <td>227</td>\n",
       "    </tr>\n",
       "  </tbody>\n",
       "</table>\n",
       "<p>13869 rows × 468 columns</p>\n",
       "</div>"
      ],
      "text/plain": [
       "       WAP001  WAP002  WAP005  WAP006  WAP007  WAP008  WAP009  WAP010  WAP011  \\\n",
       "0         100     100     100     100     100     100     100     100     100   \n",
       "1         100     100     100     100     100     -79     100     100     100   \n",
       "2         100     100     100     100     100     100     100     100     -87   \n",
       "3         100     100     100     100     100     100     100     100     100   \n",
       "4         100     100     100     100     100     100     100     100     -73   \n",
       "...       ...     ...     ...     ...     ...     ...     ...     ...     ...   \n",
       "13951     100     100     100     100     100     100     100     100     100   \n",
       "13952     100     100     100     100     100     100     100     100     100   \n",
       "13953     100     100     100     100     100     100     100     100     100   \n",
       "13954     100     100     100     100     -85     100     100     100     100   \n",
       "13955     100     100     100     100     100     100     100     100     100   \n",
       "\n",
       "       WAP012  ...  WAP516  WAP517  WAP518  WAP519  WAP520    LONGITUDE  \\\n",
       "0       100.0  ...   100.0   100.0     100     100     100 -7316.963900   \n",
       "1       100.0  ...   100.0   100.0     100     100     100 -7523.494500   \n",
       "2       -88.0  ...   100.0   100.0     100     100     100 -7318.341100   \n",
       "3       100.0  ...   100.0   100.0     100     100     100 -7390.184700   \n",
       "4       -73.0  ...   100.0   -74.0     100     100     100 -7374.347500   \n",
       "...       ...  ...     ...     ...     ...     ...     ...          ...   \n",
       "13951   100.0  ...   -81.0   100.0     100     100     100 -7352.664769   \n",
       "13952   100.0  ...   -46.0   -74.0     100     100     100 -7318.341100   \n",
       "13953   100.0  ...   -72.0   -65.0     100     100     100 -7336.299000   \n",
       "13954   100.0  ...   100.0   100.0     100     100     100 -7646.206400   \n",
       "13955   100.0  ...   100.0   100.0     100     100     100 -7682.084400   \n",
       "\n",
       "           LATITUDE  FLOOR  BUILDINGID  SPACEID  \n",
       "0      4.864795e+06      3           2      136  \n",
       "1      4.864952e+06      1           1      104  \n",
       "2      4.864815e+06      4           2      139  \n",
       "3      4.864839e+06      1           2      143  \n",
       "4      4.864846e+06      4           2      124  \n",
       "...             ...    ...         ...      ...  \n",
       "13951  4.864829e+06      0           2      124  \n",
       "13952  4.864815e+06      1           2      130  \n",
       "13953  4.864829e+06      1           2      111  \n",
       "13954  4.864932e+06      1           0      234  \n",
       "13955  4.864931e+06      2           0      227  \n",
       "\n",
       "[13869 rows x 468 columns]"
      ]
     },
     "execution_count": 25,
     "metadata": {},
     "output_type": "execute_result"
    }
   ],
   "source": [
    "ds"
   ]
  },
  {
   "cell_type": "markdown",
   "id": "df8cae87",
   "metadata": {},
   "source": [
    "# VISUALIZATION"
   ]
  },
  {
   "cell_type": "code",
   "execution_count": 26,
   "id": "6beea19a",
   "metadata": {
    "scrolled": true
   },
   "outputs": [
    {
     "data": {
      "image/png": "[encoded data removed]",
      "text/plain": [
       "<Figure size 432x288 with 2 Axes>"
      ]
     },
     "metadata": {
      "needs_background": "light"
     },
     "output_type": "display_data"
    }
   ],
   "source": [
    "ss_cols = [col for col in ds.columns if col.startswith('WAP')]\n",
    "\n",
    "# Create a scatter plot of the signal strengths for a specific floor\n",
    "floor_num = 0\n",
    "plt.scatter(ds[ds['FLOOR']==floor_num]['LONGITUDE'],\n",
    "            ds[ds['FLOOR']==floor_num]['LATITUDE'],\n",
    "            c=ds[ds['FLOOR']==floor_num][ss_cols].mean(axis=1),\n",
    "            cmap='viridis',\n",
    "            alpha=0.8)\n",
    "plt.colorbar()\n",
    "plt.xlabel('Longitude')\n",
    "plt.ylabel('Latitude')\n",
    "plt.title(f'Signal Strengths for Floor {floor_num}')\n",
    "plt.show()"
   ]
  },
  {
   "cell_type": "code",
   "execution_count": 27,
   "id": "ace578c3",
   "metadata": {
    "scrolled": true
   },
   "outputs": [
    {
     "data": {
      "text/plain": [
       "<seaborn.axisgrid.FacetGrid at 0x2943901ed30>"
      ]
     },
     "execution_count": 27,
     "metadata": {},
     "output_type": "execute_result"
    },
    {
     "data": {
      "image/png": "[encoded data removed]",
      "text/plain": [
       "<Figure size 360x360 with 1 Axes>"
      ]
     },
     "metadata": {
      "needs_background": "light"
     },
     "output_type": "display_data"
    }
   ],
   "source": [
    "sns.catplot(data = ds, x= \"FLOOR\", y= \"SPACEID\", kind = \"bar\")"
   ]
  },
  {
   "cell_type": "code",
   "execution_count": 28,
   "id": "7c525341",
   "metadata": {
    "scrolled": true
   },
   "outputs": [
    {
     "name": "stderr",
     "output_type": "stream",
     "text": [
      "C:\\Users\\omark\\anaconda3\\lib\\site-packages\\seaborn\\_decorators.py:36: FutureWarning: Pass the following variable as a keyword arg: x. From version 0.12, the only valid positional argument will be `data`, and passing other arguments without an explicit keyword will result in an error or misinterpretation.\n",
      "  warnings.warn(\n"
     ]
    },
    {
     "data": {
      "text/plain": [
       "<AxesSubplot:xlabel='FLOOR', ylabel='count'>"
      ]
     },
     "execution_count": 28,
     "metadata": {},
     "output_type": "execute_result"
    },
    {
     "data": {
      "image/png": "[encoded data removed]",
      "text/plain": [
       "<Figure size 432x288 with 1 Axes>"
      ]
     },
     "metadata": {
      "needs_background": "light"
     },
     "output_type": "display_data"
    }
   ],
   "source": [
    "sns.countplot(ds['FLOOR'])"
   ]
  },
  {
   "cell_type": "code",
   "execution_count": 29,
   "id": "b1587758",
   "metadata": {
    "scrolled": true
   },
   "outputs": [
    {
     "name": "stdout",
     "output_type": "stream",
     "text": [
      "no of floors in each building: \n",
      "BUILDINGID\n",
      "0       [2, 1, 3, 0]\n",
      "1       [1, 2, 3, 0]\n",
      "2    [3, 4, 1, 2, 0]\n",
      "Name: FLOOR, dtype: object\n"
     ]
    }
   ],
   "source": [
    "print(\"no of floors in each building: \")\n",
    "print(ds.groupby('BUILDINGID')['FLOOR'].unique())"
   ]
  },
  {
   "cell_type": "markdown",
   "id": "91495cf1",
   "metadata": {},
   "source": [
    "This tells us building 2 is the largest with the most floors.this can be helpful for traffic monitoring (in my understanding)"
   ]
  },
  {
   "cell_type": "markdown",
   "id": "a5d460d0",
   "metadata": {},
   "source": [
    "# TENSOR FLOW"
   ]
  },
  {
   "cell_type": "code",
   "execution_count": 30,
   "id": "38e7b064",
   "metadata": {},
   "outputs": [],
   "source": [
    "all_100_cols = ds.columns[ds.eq(100).all()] \n",
    "\n",
    "ds.drop(columns=all_100_cols, inplace=True)"
   ]
  },
  {
   "cell_type": "code",
   "execution_count": 31,
   "id": "1a085443",
   "metadata": {},
   "outputs": [
    {
     "data": {
      "text/plain": [
       "(13869, 467)"
      ]
     },
     "execution_count": 31,
     "metadata": {},
     "output_type": "execute_result"
    }
   ],
   "source": [
    "ds.shape"
   ]
  },
  {
   "cell_type": "code",
   "execution_count": 32,
   "id": "6ce7cc8a",
   "metadata": {},
   "outputs": [],
   "source": [
    "\n",
    "from sklearn.metrics import plot_confusion_matrix\n",
    "from sklearn import model_selection\n",
    "from sklearn.metrics import confusion_matrix\n",
    "from sklearn.model_selection import train_test_split\n",
    "from sklearn.model_selection import train_test_split\n",
    "import tensorflow as tf\n",
    "from tensorflow import keras\n",
    "from tensorflow.keras import layers\n",
    "from keras.models import Sequential\n",
    "from keras import losses\n",
    "import itertools"
   ]
  },
  {
   "cell_type": "code",
   "execution_count": 33,
   "id": "1bb7483f",
   "metadata": {},
   "outputs": [],
   "source": [
    "def normalize(x, xmin, xmax, a, b):\n",
    "    numerator = x - xmin\n",
    "    denominator = xmax - xmin\n",
    "    multiplier = b - a\n",
    "    ans = (numerator/denominator)*multiplier + a\n",
    "    return ans\n",
    "lat_min = 4864745.7450159714\n",
    "lat_max = 4865017.3646842018\n",
    "tmin = 0\n",
    "tmax = 1\n",
    "def normalize_lat(num):\n",
    "    num = float(num)\n",
    "    ans = normalize(num, lat_min, lat_max, tmin, tmax)\n",
    "    return ans\n",
    "long_min = -7695.9387549299299000\n",
    "long_max = -7299.786516730871000\n",
    "tmin = 0\n",
    "tmax = 1\n",
    "def normalize_long(num):\n",
    "    num = float(num)\n",
    "    ans = normalize(num, long_min, long_max, tmin, tmax)\n",
    "    return ans\n",
    "# Normalize latitudes and longitudes\n",
    "ds[\"LATITUDE\"] = ds[\"LATITUDE\"].apply(normalize_lat)\n",
    "ds[\"LONGITUDE\"] = ds[\"LONGITUDE\"].apply(normalize_long)"
   ]
  },
  {
   "cell_type": "code",
   "execution_count": 35,
   "id": "725ca5b7",
   "metadata": {},
   "outputs": [],
   "source": [
    "# X=ds.drop(columns=[\"Unnamed: 0\",'LONGITUDE', 'LATITUDE', 'FLOOR', 'BUILDINGID','RELATIVEPOSITION', 'USERID', 'PHONEID', 'TIMESTAMP','SPACEID'])\n",
    "# y=ds[\"SPACEID\"]\n",
    "# X_train, X_test, y_train, y_test = train_test_split(X, y, test_size = 0.3)"
   ]
  },
  {
   "cell_type": "code",
   "execution_count": 43,
   "id": "a4388f51",
   "metadata": {},
   "outputs": [],
   "source": [
    "X=ds.loc[:,\"WAP001\":\"WAP519\"]\n",
    "Y=ds[['LONGITUDE', 'LATITUDE']]\n",
    "X_train, X_test, Y_train, Y_test = train_test_split(X, Y, test_size = 0.3)\n"
   ]
  },
  {
   "cell_type": "code",
   "execution_count": 44,
   "id": "c9e166f2",
   "metadata": {
    "scrolled": true
   },
   "outputs": [
    {
     "name": "stdout",
     "output_type": "stream",
     "text": [
      "Epoch 1/28\n",
      "607/607 [==============================] - 1s 932us/step - loss: 57.7346 - r2: -752.1290 - mae: 3.8098\n",
      "Epoch 2/28\n",
      "607/607 [==============================] - 1s 867us/step - loss: 1.3956 - r2: -16.5657 - mae: 0.8603\n",
      "Epoch 3/28\n",
      "607/607 [==============================] - 1s 856us/step - loss: 0.2223 - r2: -1.7885 - mae: 0.3253\n",
      "Epoch 4/28\n",
      "607/607 [==============================] - 1s 915us/step - loss: 0.0654 - r2: 0.1881 - mae: 0.1896\n",
      "Epoch 5/28\n",
      "607/607 [==============================] - 1s 851us/step - loss: 0.0497 - r2: 0.3799 - mae: 0.1720\n",
      "Epoch 6/28\n",
      "607/607 [==============================] - 1s 846us/step - loss: 0.0442 - r2: 0.4461 - mae: 0.1656\n",
      "Epoch 7/28\n",
      "607/607 [==============================] - 1s 856us/step - loss: 0.0433 - r2: 0.4578 - mae: 0.1649\n",
      "Epoch 8/28\n",
      "607/607 [==============================] - 1s 869us/step - loss: 0.0454 - r2: 0.4377 - mae: 0.1687\n",
      "Epoch 9/28\n",
      "607/607 [==============================] - 1s 876us/step - loss: 0.0431 - r2: 0.4607 - mae: 0.1641\n",
      "Epoch 10/28\n",
      "607/607 [==============================] - 1s 900us/step - loss: 0.0398 - r2: 0.5033 - mae: 0.1576\n",
      "Epoch 11/28\n",
      "607/607 [==============================] - 1s 907us/step - loss: 0.0427 - r2: 0.4637 - mae: 0.1628\n",
      "Epoch 12/28\n",
      "607/607 [==============================] - 1s 859us/step - loss: 0.0436 - r2: 0.4550 - mae: 0.1624\n",
      "Epoch 13/28\n",
      "607/607 [==============================] - 1s 838us/step - loss: 0.0387 - r2: 0.5131 - mae: 0.1496\n",
      "Epoch 14/28\n",
      "607/607 [==============================] - 1s 854us/step - loss: 0.0649 - r2: 0.1870 - mae: 0.1728\n",
      "Epoch 15/28\n",
      "607/607 [==============================] - 1s 839us/step - loss: 0.0292 - r2: 0.6338 - mae: 0.1356\n",
      "Epoch 16/28\n",
      "607/607 [==============================] - 1s 887us/step - loss: 0.0339 - r2: 0.5787 - mae: 0.1419\n",
      "Epoch 17/28\n",
      "607/607 [==============================] - 1s 895us/step - loss: 0.0396 - r2: 0.5003 - mae: 0.1434\n",
      "Epoch 18/28\n",
      "607/607 [==============================] - 1s 935us/step - loss: 0.1165 - r2: -0.4505 - mae: 0.1778\n",
      "Epoch 19/28\n",
      "607/607 [==============================] - 1s 874us/step - loss: 0.0166 - r2: 0.7938 - mae: 0.1019\n",
      "Epoch 20/28\n",
      "607/607 [==============================] - 1s 877us/step - loss: 0.5328 - r2: -5.8241 - mae: 0.2655\n",
      "Epoch 21/28\n",
      "607/607 [==============================] - 1s 853us/step - loss: 0.0259 - r2: 0.6756 - mae: 0.1281\n",
      "Epoch 22/28\n",
      "607/607 [==============================] - 1s 856us/step - loss: 0.0264 - r2: 0.6693 - mae: 0.1296\n",
      "Epoch 23/28\n",
      "607/607 [==============================] - 1s 862us/step - loss: 0.0290 - r2: 0.6375 - mae: 0.1358\n",
      "Epoch 24/28\n",
      "607/607 [==============================] - 1s 986us/step - loss: 0.0283 - r2: 0.6487 - mae: 0.1336\n",
      "Epoch 25/28\n",
      "607/607 [==============================] - 1s 930us/step - loss: 0.0234 - r2: 0.7078 - mae: 0.1215\n",
      "Epoch 26/28\n",
      "607/607 [==============================] - 1s 953us/step - loss: 0.0185 - r2: 0.7683 - mae: 0.1082\n",
      "Epoch 27/28\n",
      "607/607 [==============================] - 1s 1ms/step - loss: 0.0161 - r2: 0.7996 - mae: 0.1001\n",
      "Epoch 28/28\n",
      "607/607 [==============================] - 1s 1ms/step - loss: 0.0160 - r2: 0.7998 - mae: 0.0975\n",
      "131/131 [==============================] - 0s 767us/step - loss: 0.0083 - r2: 0.8982 - mae: 0.0704\n",
      "Mean squared error: [0.008331981487572193, 0.8982414603233337, 0.07035963237285614]\n"
     ]
    }
   ],
   "source": [
    "def r2(y_true, y_pred):\n",
    "    ss_res = tf.reduce_sum(tf.square(y_true - y_pred))\n",
    "    ss_tot = tf.reduce_sum(tf.square(y_true - tf.reduce_mean(y_true)))\n",
    "    r2 = 1 - ss_res / (ss_tot + tf.keras.backend.epsilon())\n",
    "    return r2\n",
    "\n",
    "\n",
    "\n",
    "# Create the TensorFlow model\n",
    "model = keras.Sequential([\n",
    "    keras.layers.Dense(64, activation='relu', input_shape=(len(X.columns),)),\n",
    "    keras.layers.Dense(32, activation='relu'),\n",
    "    keras.layers.Dense(2)\n",
    "])\n",
    "\n",
    "# Compile the model\n",
    "model.compile(loss='mse', optimizer='adam', metrics=[r2, \"mae\"])\n",
    "\n",
    "# Train the model\n",
    "model.fit(X_train, Y_train, epochs=28, batch_size=16)\n",
    "\n",
    "# Evaluate the model on the test set\n",
    "mse = model.evaluate(X_test, Y_test)\n",
    "\n",
    "print('Mean squared error:', mse)"
   ]
  },
  {
   "cell_type": "code",
   "execution_count": 52,
   "id": "9d27543c",
   "metadata": {},
   "outputs": [],
   "source": [
    "X=ds.drop(columns=['LONGITUDE', 'LATITUDE', 'SPACEID'])\n",
    "y=ds[\"SPACEID\"]\n",
    "X_train, X_test, y_train, y_test = train_test_split(X, y, test_size = 0.3)"
   ]
  },
  {
   "cell_type": "code",
   "execution_count": 54,
   "id": "903eb07f",
   "metadata": {},
   "outputs": [
    {
     "data": {
      "text/plain": [
       "RandomForestClassifier()"
      ]
     },
     "execution_count": 54,
     "metadata": {},
     "output_type": "execute_result"
    }
   ],
   "source": [
    "rfc = RandomForestClassifier()\n",
    "rfc.fit(X_train, y_train)"
   ]
  },
  {
   "cell_type": "code",
   "execution_count": 55,
   "id": "9f05422b",
   "metadata": {},
   "outputs": [
    {
     "name": "stdout",
     "output_type": "stream",
     "text": [
      "Training Performance: \n",
      "0.9683765966213432\n",
      "Testing Performance: \n",
      "0.7673636145157414\n"
     ]
    }
   ],
   "source": [
    "print(\"Training Performance: \")\n",
    "print(rfc.score(X_train,y_train))\n",
    "print(\"Testing Performance: \")\n",
    "print(rfc.score(X_test,y_test))"
   ]
  },
  {
   "cell_type": "code",
   "execution_count": 57,
   "id": "a1cfcdb1",
   "metadata": {},
   "outputs": [],
   "source": [
    "X=ds.drop(columns=['LONGITUDE', 'LATITUDE', 'SPACEID'])\n",
    "y=ds[\"SPACEID\"]\n",
    "X_train, X_test, y_train, y_test = train_test_split(X, y, test_size = 0.3)"
   ]
  },
  {
   "cell_type": "code",
   "execution_count": 58,
   "id": "28a5c361",
   "metadata": {},
   "outputs": [
    {
     "data": {
      "text/plain": [
       "KNeighborsClassifier(n_neighbors=4)"
      ]
     },
     "execution_count": 58,
     "metadata": {},
     "output_type": "execute_result"
    }
   ],
   "source": [
    "knn = KNeighborsClassifier(n_neighbors=4)\n",
    "knn.fit(X_train, y_train)"
   ]
  },
  {
   "cell_type": "code",
   "execution_count": 59,
   "id": "5c4bf9bd",
   "metadata": {},
   "outputs": [
    {
     "name": "stdout",
     "output_type": "stream",
     "text": [
      "Training Performance: \n",
      "0.7403172641120725\n",
      "Testing Performance: \n",
      "0.5726988704638308\n"
     ]
    }
   ],
   "source": [
    "print(\"Training Performance: \")\n",
    "print(knn.score(X_train,y_train))\n",
    "print(\"Testing Performance: \")\n",
    "print(knn.score(X_test,y_test))"
   ]
  },
  {
   "cell_type": "code",
   "execution_count": 60,
   "id": "daed8f87",
   "metadata": {},
   "outputs": [],
   "source": [
    "X=ds.drop(columns=['LONGITUDE', 'LATITUDE', 'SPACEID'])\n",
    "y=ds[\"SPACEID\"]\n",
    "X_train, X_test, y_train, y_test = train_test_split(X, y, test_size = 0.3)"
   ]
  },
  {
   "cell_type": "code",
   "execution_count": 61,
   "id": "149e2282",
   "metadata": {},
   "outputs": [
    {
     "data": {
      "text/plain": [
       "SVC()"
      ]
     },
     "execution_count": 61,
     "metadata": {},
     "output_type": "execute_result"
    }
   ],
   "source": [
    "svm = SVC()\n",
    "svm.fit(X_train, y_train)"
   ]
  },
  {
   "cell_type": "code",
   "execution_count": 63,
   "id": "36ca6f54",
   "metadata": {},
   "outputs": [
    {
     "name": "stdout",
     "output_type": "stream",
     "text": [
      "Training Performance: \n",
      "0.7367119901112484\n",
      "Testing Performance: \n",
      "0.547945205479452\n"
     ]
    }
   ],
   "source": [
    "print(\"Training Performance: \")\n",
    "print(svm.score(X_train,y_train))\n",
    "print(\"Testing Performance: \")\n",
    "print(svm.score(X_test,y_test))"
   ]
  },
  {
   "cell_type": "markdown",
   "id": "70547da8",
   "metadata": {},
   "source": [
    "# CONCLUSION"
   ]
  },
  {
   "cell_type": "markdown",
   "id": "f1f38909",
   "metadata": {},
   "source": [
    "Random Forest had the highest score because It can work well for indoor location prediction because it can capture complex nonlinear relationships between the input features and the target variables. Another reason can be because it is not prone to overfitting."
   ]
  }
 ],
 "metadata": {
  "kernelspec": {
   "display_name": "Python 3 (ipykernel)",
   "language": "python",
   "name": "python3"
  },
  "language_info": {
   "codemirror_mode": {
    "name": "ipython",
    "version": 3
   },
   "file_extension": ".py",
   "mimetype": "text/x-python",
   "name": "python",
   "nbconvert_exporter": "python",
   "pygments_lexer": "ipython3",
   "version": "3.9.7"
  }
 },
 "nbformat": 4,
 "nbformat_minor": 5
}
